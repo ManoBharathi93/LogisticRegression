{
  "nbformat": 4,
  "nbformat_minor": 0,
  "metadata": {
    "colab": {
      "provenance": []
    },
    "kernelspec": {
      "name": "python3",
      "display_name": "Python 3"
    },
    "language_info": {
      "name": "python"
    }
  },
  "cells": [
    {
      "cell_type": "markdown",
      "source": [
        "# Import Libraries"
      ],
      "metadata": {
        "id": "u4JaFJljMpmd"
      }
    },
    {
      "cell_type": "code",
      "execution_count": 42,
      "metadata": {
        "id": "jObZAkQA68B8"
      },
      "outputs": [],
      "source": [
        "import pandas as pd\n",
        "import numpy as np\n",
        "from sklearn.model_selection import train_test_split\n",
        "from sklearn.linear_model import LogisticRegression"
      ]
    },
    {
      "cell_type": "code",
      "source": [
        "class LogisticRegression():\n",
        "  def __init__(self,learning_rate,iterations):\n",
        "    self.learning_rate = learning_rate\n",
        "    self.iterations = iterations\n",
        "\n",
        "  def fit(self,features, labels):\n",
        "    self.features =features\n",
        "    self.labels = labels\n",
        "    self.num_train = features.shape[0]\n",
        "    self.num_features = features.shape[1]\n",
        "    self.W, self.b = np.zeros(self.num_features),0\n",
        "\n",
        "    for i in range(self.iterations):\n",
        "      self.update_weights()\n",
        "    return self\n",
        "\n",
        "  def update_weights(self):                                    # Function for updating weights.\n",
        "    A = 1 / (1 + np.exp(-(self.features.dot(self.W) + self.b)))\n",
        "    pred = (A - self.labels.T)\n",
        "    pred = np.reshape(pred, self.num_train)\n",
        "    dW = np.dot(self.features.T, pred) / self.num_train\n",
        "    db = np.sum(pred) / self.num_train                         # Average of the Predictions.\n",
        "    self.W = self.W - self.learning_rate * dW                  # Updating Weights.\n",
        "    self.b = self.b - self.learning_rate * db                  # Updating Weights.\n",
        "    return self\n",
        "\n",
        "  def predict(self, X):                                        # Function for Predictions.\n",
        "    Z = 1 / (1 + np.exp(-(X.dot(self.W) + self.b)))\n",
        "    Y = np.where(Z > 0.5, 1, 0)\n",
        "    return Y\n",
        ""
      ],
      "metadata": {
        "id": "aPqbCbmjYZoT"
      },
      "execution_count": 54,
      "outputs": []
    },
    {
      "cell_type": "code",
      "source": [
        "def main():\n",
        "  data = pd.read_csv('path/to/dataset') # Reading the Dataset.\n",
        "  X = data.iloc[:, :-1].values\n",
        "  Y = data.iloc[:, -1:].values\n",
        "  X_train, X_test, y_train, y_test = train_test_split(X, Y, test_size=0.3,\n",
        "                                                      random_state=11)\n",
        "  model = LogisticRegression(learning_rate=0.01, iterations=1000)           # Initializing Logistic Regression.\n",
        "  model.fit(X_train, y_train)                                               # Training the Model.\n",
        "  Y_pred = model.predict(X_test)\n",
        "  correctly_classified = 0\n",
        "  count = 0\n",
        "  for count in range(np.size(Y_pred)):\n",
        "    if y_test[count] == Y_pred[count]:\n",
        "      correctly_classified += 1\n",
        "    count += 1\n",
        "  print(\"Accuracy:\", (correctly_classified / count) * 100)\n",
        "\n",
        "if __name__ == \"__main__\":\n",
        "  main()"
      ],
      "metadata": {
        "colab": {
          "base_uri": "https://localhost:8080/"
        },
        "id": "y9jS-BCHZD79",
        "outputId": "d603f7a0-1606-4e8d-fa42-3a4fd338ec64"
      },
      "execution_count": 57,
      "outputs": [
        {
          "output_type": "stream",
          "name": "stdout",
          "text": [
            "Accuracy: 42.42424242424242\n"
          ]
        }
      ]
    },
    {
      "cell_type": "code",
      "source": [],
      "metadata": {
        "id": "5B16BQZleR7U"
      },
      "execution_count": null,
      "outputs": []
    }
  ]
}